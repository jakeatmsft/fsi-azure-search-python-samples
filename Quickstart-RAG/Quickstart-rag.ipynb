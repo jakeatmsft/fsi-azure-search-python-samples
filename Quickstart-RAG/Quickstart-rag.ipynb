{
 "cells": [
  {
   "cell_type": "markdown",
   "metadata": {},
   "source": [
    "# RAG Quickstart for Azure AI Search\n",
    "\n",
    "This quickstart provides a query for RAG scenarios. It demonstrates an approach for a chat experience using grounding data from a search index on Azure AI Search.\n",
    "\n",
    "We took a few shortcuts to keep the exercise basic and focused on query definitions:\n",
    "\n",
    "- We use the **hotels-sample-index**, which can be created in minutes and runs on any search service tier. This index is created by a wizard using built-in sample data.\n",
    "\n",
    "- We omit vectors so that we can skip chunking and embedding. The index contains plain text.\n",
    "\n",
    "A non-vector index isn't ideal for RAG patterns, but it makes for a simpler example.\n",
    "\n",
    "Once you understand the fundamentals of integrating queries from Azure AI Search to a chat completion model on Azure OpenAI, you can build on that experience by adding vector fields and vector and hybrid queries. We recommend the [phi-chat Python code example](https://github.com/Azure/azure-search-vector-samples/blob/main/demo-python/code/phi-chat/phi-chat.ipynb) for that step.\n",
    "\n",
    "This example is fully documented in [Quickstart: Generative search (RAG) with grounding data from Azure AI Search](https://learn.microsoft.com/azure/search/search-get-started-rag). If you need more guidance than the readme provides, please refer to the article.\n"
   ]
  },
  {
   "cell_type": "markdown",
   "metadata": {},
   "source": [
    "## Prerequisites\n",
    "\n",
    "- [Azure OpenAI](https://learn.microsoft.com/azure/ai-services/openai/how-to/create-resource)\n",
    "\n",
    "  - [Choose a region](https://learn.microsoft.com/azure/ai-services/openai/concepts/models?tabs=global-standard%2Cstandard-chat-completions#global-standard-model-availability) that supports the chat completion model you want to use (gpt-4o, gpt-4o-mini, or equivalent model). \n",
    "  - [Deploy the chat completion model](https://learn.microsoft.com/azure/ai-studio/how-to/deploy-models-openai) in Azure AI Foundry or [use another approach](https://learn.microsoft.com/azure/ai-services/openai/how-to/working-with-models?tabs=powershell).\n",
    "\n",
    "\n",
    "- [Azure AI Search](https://learn.microsoft.com/azure/search/search-create-service-portal)\n",
    "\n",
    "  - Basic tier or higher is recommended.\n",
    "  - Enable semantic ranking.\n",
    "  - Enable role-based access control.\n",
    "  - Enable a system identity for Azure AI Search.\n",
    "  \n",
    "Make sure you know the name of the deployed model, and have the endpoints for both Azure resources at hand. You will provide this information in the steps that follow.\n",
    "\n",
    "## Configure access\n",
    "\n",
    "This quickstart assumes authentication and authorization using Microsoft Entra ID and role assignments. It also assumes that you run this code from your local device.\n",
    "\n",
    "1. To create, load, and query the sample hotels index on Azure AI Search, you must personally have role assignments for **Search Index Data Contributor** and **Search Service Contributor**. If the hotels index already exists, you only need **Search Index Data Reader**.\n",
    "\n",
    "1. To send the query and search results to Azure OpenAI, you must have **Cognitive Services OpenAI User** permissions on Azure OpenAI.\n",
    "\n",
    "## Create the sample index\n",
    "\n",
    "This quickstart assumes the hotels-sample-index, which you can create in minutes using [this quickstart](https://learn.microsoft.com/azure/search/search-get-started-portal).\n",
    "\n",
    "Once the index exists, modify it in the Azure portal to use this semantic configuration:"
   ]
  },
  {
   "cell_type": "raw",
   "metadata": {
    "vscode": {
     "languageId": "raw"
    }
   },
   "source": [
    "    \"semantic\": {\n",
    "    \"defaultConfiguration\": \"semantic-config\",\n",
    "    \"configurations\": [\n",
    "      {\n",
    "        \"name\": \"semantic-config\",\n",
    "        \"prioritizedFields\": {\n",
    "          \"titleField\": { \"fieldName\": \"HotelName\" },\n",
    "          \"prioritizedContentFields\": [ { \"fieldName\": \"Description\" } ],\n",
    "          \"prioritizedKeywordsFields\": [\n",
    "            { \"fieldName\": \"Category\" },\n",
    "            { \"fieldName\": \"Tags\" }\n",
    "          ]}\n",
    "       }]},"
   ]
  },
  {
   "cell_type": "raw",
   "metadata": {
    "vscode": {
     "languageId": "raw"
    }
   },
   "source": [
    "#modify AI Search index to include semantic search configuration\n",
    "    \"aiSearchIndex\": {\n",
    "      \"name\": \"hotels\",\n",
    "      \"fields\": [\n",
    "        { \"name\": \"HotelName\", \"type\": \"Edm.String\", \"searchable\": true, \"filterable\": true, \"sortable\": true, \"facetable\": true },\n",
    "        { \"name\": \"Description\", \"type\": \"Edm.String\", \"searchable\": true, \"filterable\": false, \"sortable\": false, \"facetable\": false },\n",
    "        { \"name\": \"Category\", \"type\": \"Edm.String\", \"searchable\": true, \"filterable\": true, \"sortable\": false, \"facetable\": true },\n",
    "        { \"name\": \"Tags\", \"type\": \"Collection(Edm.String)\", \"searchable\": true, \"filterable\": false, \"sortable\": false, \"facetable\": false }\n",
    "      ],\n",
    "      \"@odata.type\": \"#Microsoft.Azure.Search.Models.SemanticSearch\",\n",
    "      \"@odata.id\": null\n",
    "    }\n",
    "  }"
   ]
  },
  {
   "cell_type": "markdown",
   "metadata": {},
   "source": [
    "Now that you have your Azure resources, an index, and model in place, you can run the script to chat with the index."
   ]
  },
  {
   "cell_type": "markdown",
   "metadata": {},
   "source": [
    "## Create a virtual environment\n",
    "\n",
    "Create a virtual environment so that you can install the dependencies in isolation.\n",
    "\n",
    "1. In Visual Studio Code, open the folder containing Quickstart-RAG.ipynb.\n",
    "\n",
    "1. Press Ctrl-shift-P to open the command palette, search for \"Python: Create Environment\", and then select `Venv` to create a virtual environment in the current workspace.\n",
    "\n",
    "1. Select Quickstart-RAG\\requirements.txt for the dependencies.\n",
    "\n",
    "It takes several minutes to create the environment. When the environment is ready, continue to the next step.\n",
    "\n",
    "## Log in to Azure\n",
    "\n",
    "You're using Microsoft Entra ID and role assignments for the connection. Make sure you're logged in to the same tenant and subscription as Azure AI Search and Azure OpenAI. You can use the Azure CLI on the command line to show current properties, change properties, and to log in. For more information, see [Connect without keys](https://learn.microsoft.com/azure/search/search-get-started-rbac). \n",
    "\n",
    "Run each of the following commands in sequence.\n",
    "\n",
    "```\n",
    "az account show\n",
    "\n",
    "az account set --subscription <PUT YOUR SUBSCRIPTION ID HERE>\n",
    "\n",
    "az login --tenant <PUT YOUR TENANT ID HERE>\n",
    "```\n",
    "\n",
    "You should now be logged in to Azure from your local device.\n",
    "\n",
    "## Run the code"
   ]
  },
  {
   "cell_type": "code",
   "execution_count": 1,
   "metadata": {},
   "outputs": [],
   "source": [
    "# Package install for quickstart\n",
    "! pip install -r requirements.txt --quiet"
   ]
  },
  {
   "cell_type": "code",
   "execution_count": 6,
   "metadata": {},
   "outputs": [
    {
     "data": {
      "text/plain": [
       "True"
      ]
     },
     "execution_count": 6,
     "metadata": {},
     "output_type": "execute_result"
    }
   ],
   "source": [
    "import os\n",
    "from dotenv import load_dotenv\n",
    "\n",
    "load_dotenv()"
   ]
  },
  {
   "cell_type": "code",
   "execution_count": 9,
   "metadata": {},
   "outputs": [],
   "source": [
    "# Set endpoints and deployment model (provide the name of the deployment)\n",
    "AZURE_SEARCH_SERVICE: str = os.getenv(\"AZURE_SEARCH_ENDPOINT\")\n",
    "AZURE_OPENAI_ACCOUNT: str = os.getenv('AZURE_OPENAI_ENDPOINT')\n",
    "AZURE_DEPLOYMENT_MODEL: str = \"gpt-4.1\"\n",
    "\n",
    "# Provide variables\n",
    "search_endpoint: str = os.getenv(\"AZURE_SEARCH_ENDPOINT\")\n",
    "search_api_key: str = os.getenv(\"AZURE_SEARCH_API_KEY\")\n",
    "index_name: str = \"company-quickstart\""
   ]
  },
  {
   "cell_type": "code",
   "execution_count": 23,
   "metadata": {},
   "outputs": [
    {
     "name": "stderr",
     "output_type": "stream",
     "text": [
      "prioritized_content_fields is not a known attribute of class <class 'azure.search.documents.indexes._generated.models._models_py3.SemanticPrioritizedFields'> and will be ignored\n",
      "prioritized_keywords_fields is not a known attribute of class <class 'azure.search.documents.indexes._generated.models._models_py3.SemanticPrioritizedFields'> and will be ignored\n"
     ]
    },
    {
     "name": "stdout",
     "output_type": "stream",
     "text": [
      " company-quickstart created\n"
     ]
    }
   ],
   "source": [
    "from azure.core.credentials import AzureKeyCredential\n",
    "from azure.search.documents.indexes.models import SemanticSearch, SemanticConfiguration,  SemanticField, SemanticPrioritizedFields\n",
    "\n",
    "credential = AzureKeyCredential(search_api_key)\n",
    "\n",
    "from azure.search.documents.indexes import SearchIndexClient\n",
    "from azure.search.documents import SearchClient\n",
    "from azure.search.documents.indexes.models import (\n",
    "    ComplexField,\n",
    "    SimpleField,\n",
    "    SearchFieldDataType,\n",
    "    SearchableField,\n",
    "    SearchIndex\n",
    ")\n",
    "\n",
    "# Create a search schema\n",
    "index_client = SearchIndexClient(\n",
    "    endpoint=search_endpoint, credential=credential)\n",
    "\n",
    "\n",
    "fields = [\n",
    "    SimpleField(name=\"CompanyId\", type=SearchFieldDataType.String, key=True),\n",
    "    SearchableField(name=\"CompanyName\", type=SearchFieldDataType.String, sortable=True),\n",
    "    SearchableField(name=\"StockTicker\", type=SearchFieldDataType.String, sortable=True, filterable=True, facetable=True),\n",
    "    SearchableField(name=\"Description\", type=SearchFieldDataType.String, analyzer_name=\"en.lucene\"),\n",
    "    SearchableField(name=\"Description_fr\", type=SearchFieldDataType.String, analyzer_name=\"fr.lucene\"),\n",
    "    SearchableField(name=\"Industry\", type=SearchFieldDataType.String, facetable=True, filterable=True, sortable=True),\n",
    "    SearchableField(name=\"Tags\", collection=True, type=SearchFieldDataType.String, facetable=True, filterable=True),\n",
    "    SimpleField(name=\"PubliclyTraded\", type=SearchFieldDataType.Boolean, facetable=True, filterable=True, sortable=True),\n",
    "    SimpleField(name=\"FoundedDate\", type=SearchFieldDataType.DateTimeOffset, facetable=True, filterable=True, sortable=True),\n",
    "    SimpleField(name=\"MarketCap\", type=SearchFieldDataType.Double, facetable=True, filterable=True, sortable=True),\n",
    "    ComplexField(name=\"Headquarters\", fields=[\n",
    "        SearchableField(name=\"StreetAddress\", type=SearchFieldDataType.String),\n",
    "        SearchableField(name=\"City\", type=SearchFieldDataType.String, facetable=True, filterable=True, sortable=True),\n",
    "        SearchableField(name=\"StateProvince\", type=SearchFieldDataType.String, facetable=True, filterable=True, sortable=True),\n",
    "        SearchableField(name=\"PostalCode\", type=SearchFieldDataType.String, facetable=True, filterable=True, sortable=True),\n",
    "        SearchableField(name=\"Country\", type=SearchFieldDataType.String, facetable=True, filterable=True, sortable=True),\n",
    "    ])\n",
    "]\n",
    "\n",
    "\n",
    "scoring_profiles = []\n",
    "suggester = [{'name': 'sg', 'source_fields': ['Tags', 'Headquarters/City', 'Headquarters/Country']}]\n",
    "\n",
    "\n",
    "semantic_config = SemanticSearch(\n",
    "    default_configuration_name=\"semantic-config\",\n",
    "    configurations=[\n",
    "        SemanticConfiguration(\n",
    "            name=\"semantic-config\",\n",
    "            prioritized_fields= SemanticPrioritizedFields(\n",
    "                title_field=SemanticField(field_name=\"CompanyName\"),\n",
    "                prioritized_content_fields=[SemanticField(field_name=\"Description\")],\n",
    "                prioritized_keywords_fields=[\n",
    "                    SemanticField(field_name=\"Industry\"),\n",
    "                    SemanticField(field_name=\"Tags\")\n",
    "                ]\n",
    "            )\n",
    "        )\n",
    "    ]\n",
    ")\n",
    "\n",
    "\n",
    "# Create the search index=\n",
    "index = SearchIndex(name=index_name, fields=fields, suggesters=suggester, scoring_profiles=scoring_profiles, semantic_search=semantic_config)\n",
    "result = index_client.create_or_update_index(index)\n",
    "print(f' {result.name} created')"
   ]
  },
  {
   "cell_type": "markdown",
   "metadata": {},
   "source": [
    "## Basic RAG Query\n",
    "\n",
    "The following code demonstrates how to set up a query on string fields and string collections in a search index, and how to send the results to a chat completion model. The response returned to the user is from the chat completion model."
   ]
  },
  {
   "cell_type": "code",
   "execution_count": 24,
   "metadata": {},
   "outputs": [
    {
     "name": "stdout",
     "output_type": "stream",
     "text": [
      "- Woodgrove Healthcare is a healthcare company that operates a network of hospitals and clinics, delivering patient-centered care and advanced medical services. \n",
      "\n",
      "There is no information provided about the market capitalization of Woodgrove Healthcare, so I cannot confirm if it is a large cap company.\n"
     ]
    }
   ],
   "source": [
    "# Set up the query for generating responses\n",
    "from azure.identity import DefaultAzureCredential\n",
    "from azure.core.credentials import AzureKeyCredential\n",
    "\n",
    "from azure.identity import get_bearer_token_provider\n",
    "from azure.search.documents import SearchClient\n",
    "from openai import AzureOpenAI\n",
    "\n",
    "credential = DefaultAzureCredential()\n",
    "token_provider = get_bearer_token_provider(credential, \"https://cognitiveservices.azure.com/.default\")\n",
    "openai_client = AzureOpenAI(\n",
    "    api_version=\"2024-06-01\",\n",
    "    azure_endpoint=AZURE_OPENAI_ACCOUNT,\n",
    "    azure_ad_token_provider=token_provider\n",
    ")\n",
    "\n",
    "credential = AzureKeyCredential(search_api_key)\n",
    "\n",
    "\n",
    "search_client = SearchClient(\n",
    "    endpoint=AZURE_SEARCH_SERVICE,\n",
    "    index_name=index_name,\n",
    "    credential=credential\n",
    ")\n",
    "\n",
    "# This prompt provides instructions to the model\n",
    "# ...existing code...\n",
    "GROUNDED_PROMPT = \"\"\"\n",
    "You are a helpful assistant that provides information about companies based on the data provided below.\n",
    "Answer the query using only the sources listed below in a clear and concise bulleted format.\n",
    "ONLY use facts from the sources below in your answer.\n",
    "If there isn't enough information, reply that you don't know.\n",
    "Do not generate answers that aren't supported by the sources below.\n",
    "Query: {query}\n",
    "Sources:\n",
    "{sources}\n",
    "\"\"\"\n",
    "# ...existing code...\n",
    "\n",
    "# Query is the question being asked. It's sent to the search engine and the LLM.\n",
    "query=\"Identify large cap healthcare companies?\"\n",
    "\n",
    "# Search results are created by the search client.\n",
    "# Search results are composed of the top 5 results and the fields selected from the search index.\n",
    "# Search results include the top 5 matches to your query.\n",
    "search_results = search_client.search(\n",
    "    search_text=query,\n",
    "    top=5,\n",
    "    select=\"Description,CompanyName,Tags\",\n",
    "    query_type=\"semantic\"\n",
    ")\n",
    "sources_formatted = \"\\n\".join([f'{document[\"CompanyName\"]}:{document[\"Description\"]}:{document[\"Tags\"]}' for document in search_results])\n",
    "\n",
    "# Send the search results and the query to the LLM to generate a response based on the prompt.\n",
    "response = openai_client.chat.completions.create(\n",
    "    messages=[\n",
    "        {\n",
    "            \"role\": \"user\",\n",
    "            \"content\": GROUNDED_PROMPT.format(query=query, sources=sources_formatted)\n",
    "        }\n",
    "    ],\n",
    "    model=AZURE_DEPLOYMENT_MODEL\n",
    ")\n",
    "\n",
    "# Here is the response from the chat model.\n",
    "print(response.choices[0].message.content)"
   ]
  },
  {
   "cell_type": "markdown",
   "metadata": {},
   "source": [
    "If you get an authorization error instead of results:\n",
    "\n",
    "+ If you just enabled role assignments, wait a few minutes and try again. It can take several minutes for role assignments to become operational.\n",
    "\n",
    "+ Make sure you [enabled RBAC](https://learn.microsoft.com/azure/search/search-security-enable-roles?tabs=config-svc-portal%2Cdisable-keys-portal) on Azure AI Search. An HttpStatusMessage of **Forbidden** is an indicator that RBAC isn't enabled.\n",
    "\n",
    "+ Recheck role assignments if you get a 401 error. You should also review the steps in [Connect without keys](https://learn.microsoft.com/azure/search/search-get-started-rbac).\n",
    "\n",
    "+ Check firewall settings. This quickstart assumes public network access. If you have a firewall, you need to add rules to allow inbound requests from your device and for service-to-service connections. For more information, see [Configure network access](https://learn.microsoft.com/azure/search/service-configure-firewall).\n",
    "\n",
    "+ For more debugging guidance, see the [troubleshooting section](https://learn.microsoft.com/azure/search/search-get-started-rag#troubleshooting-errors) in the Quickstart documentation."
   ]
  },
  {
   "cell_type": "markdown",
   "metadata": {},
   "source": [
    "## Complex RAG Query\n",
    "\n",
    "Use complex types and collections in a RAG pattern by converting the result to JSON before sending it to the chat completion models. This query is similar to the basic query, but it includes fields from the \"Address\" complex type and the \"Rooms\" complex collection. This query shows you how to pull in data from parts of the index that aren't just simple text fields."
   ]
  },
  {
   "cell_type": "code",
   "execution_count": null,
   "metadata": {},
   "outputs": [
    {
     "name": "stdout",
     "output_type": "stream",
     "text": [
      "I don't know.\n"
     ]
    }
   ],
   "source": [
    "import json\n",
    "\n",
    "# Query is the question being asked. It's sent to the search engine and the LLM.\n",
    "query=\"Which companies will be most impacted by a nursing strike?\"\n",
    "\n",
    "# Set up the search results and the chat thread.\n",
    "# Retrieve the selected fields from the search index related to the question.\n",
    "selected_fields = [\"CompanyName\",\"Description\",\"Headquarters\",\"Industry\",\"Tags\"]\n",
    "search_results = search_client.search(\n",
    "    search_text=query,\n",
    "    top=5,\n",
    "    select=selected_fields,\n",
    "    query_type=\"semantic\"\n",
    ")\n",
    "sources_filtered = [{field: result[field] for field in selected_fields} for result in search_results]\n",
    "sources_formatted = \"\\n\".join([json.dumps(source) for source in sources_filtered])\n",
    "\n",
    "response = openai_client.chat.completions.create(\n",
    "    messages=[\n",
    "        {\n",
    "            \"role\": \"user\",\n",
    "            \"content\": GROUNDED_PROMPT.format(query=query, sources=sources_formatted)\n",
    "        }\n",
    "    ],\n",
    "    model=AZURE_DEPLOYMENT_MODEL\n",
    ")\n",
    "\n",
    "print(response.choices[0].message.content)"
   ]
  },
  {
   "cell_type": "code",
   "execution_count": null,
   "metadata": {},
   "outputs": [],
   "source": []
  }
 ],
 "metadata": {
  "kernelspec": {
   "display_name": "oai",
   "language": "python",
   "name": "python3"
  },
  "language_info": {
   "codemirror_mode": {
    "name": "ipython",
    "version": 3
   },
   "file_extension": ".py",
   "mimetype": "text/x-python",
   "name": "python",
   "nbconvert_exporter": "python",
   "pygments_lexer": "ipython3",
   "version": "3.12.9"
  }
 },
 "nbformat": 4,
 "nbformat_minor": 2
}
