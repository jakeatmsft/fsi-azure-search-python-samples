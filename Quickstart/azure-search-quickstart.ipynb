{
 "cells": [
  {
   "attachments": {},
   "cell_type": "markdown",
   "metadata": {},
   "source": [
    "# Create a search index in Azure AI Search using the Azure SDK for Python"
   ]
  },
  {
   "attachments": {},
   "cell_type": "markdown",
   "metadata": {},
   "source": [
    "This notebook steps through creating, loading, and querying an index in Azure AI Search index by calling the azure-search-documents library in the Azure SDK for Python. "
   ]
  },
  {
   "cell_type": "markdown",
   "metadata": {},
   "source": [
    "## Install packages and set variables"
   ]
  },
  {
   "cell_type": "code",
   "execution_count": null,
   "metadata": {},
   "outputs": [],
   "source": [
    "! pip install azure-search-documents==11.6.0b1 --quiet\n",
    "! pip install azure-identity --quiet\n",
    "! pip install python-dotenv --quiet"
   ]
  },
  {
   "cell_type": "code",
   "execution_count": 3,
   "metadata": {},
   "outputs": [
    {
     "data": {
      "text/plain": [
       "True"
      ]
     },
     "execution_count": 3,
     "metadata": {},
     "output_type": "execute_result"
    }
   ],
   "source": [
    "import os\n",
    "from dotenv import load_dotenv\n",
    "\n",
    "load_dotenv()"
   ]
  },
  {
   "cell_type": "code",
   "execution_count": 4,
   "metadata": {},
   "outputs": [],
   "source": [
    "# Provide variables\n",
    "search_endpoint: str = os.getenv(\"AZURE_SEARCH_ENDPOINT\")\n",
    "search_api_key: str = os.getenv(\"AZURE_SEARCH_API_KEY\")\n",
    "index_name: str = \"company-quickstart\""
   ]
  },
  {
   "cell_type": "markdown",
   "metadata": {},
   "source": [
    "## Create an index"
   ]
  },
  {
   "cell_type": "code",
   "execution_count": null,
   "metadata": {},
   "outputs": [
    {
     "name": "stdout",
     "output_type": "stream",
     "text": [
      " company-quickstart created\n"
     ]
    }
   ],
   "source": [
    "from azure.core.credentials import AzureKeyCredential\n",
    "\n",
    "credential = AzureKeyCredential(search_api_key)\n",
    "\n",
    "from azure.search.documents.indexes import SearchIndexClient\n",
    "from azure.search.documents import SearchClient\n",
    "from azure.search.documents.indexes.models import (\n",
    "    ComplexField,\n",
    "    SimpleField,\n",
    "    SearchFieldDataType,\n",
    "    SearchableField,\n",
    "    SearchIndex\n",
    ")\n",
    "\n",
    "# Create a search schema\n",
    "index_client = SearchIndexClient(\n",
    "    endpoint=search_endpoint, credential=credential)\n",
    "fields = [\n",
    "    SimpleField(name=\"CompanyId\", type=SearchFieldDataType.String, key=True),\n",
    "    SearchableField(name=\"\", type=SearchFieldDataType.String, sortable=True),\n",
    "    SearchableField(name=\"StockTicker\", type=SearchFieldDataType.String, sortable=True, filterable=True, facetable=True),\n",
    "    SearchableField(name=\"Description\", type=SearchFieldDataType.String, analyzer_name=\"en.lucene\"),\n",
    "    SearchableField(name=\"Description_fr\", type=SearchFieldDataType.String, analyzer_name=\"fr.lucene\"),\n",
    "    SearchableField(name=\"Industry\", type=SearchFieldDataType.String, facetable=True, filterable=True, sortable=True),\n",
    "    SearchableField(name=\"Tags\", collection=True, type=SearchFieldDataType.String, facetable=True, filterable=True),\n",
    "    SimpleField(name=\"PubliclyTraded\", type=SearchFieldDataType.Boolean, facetable=True, filterable=True, sortable=True),\n",
    "    SimpleField(name=\"FoundedDate\", type=SearchFieldDataType.DateTimeOffset, facetable=True, filterable=True, sortable=True),\n",
    "    SimpleField(name=\"MarketCap\", type=SearchFieldDataType.Double, facetable=True, filterable=True, sortable=True),\n",
    "    ComplexField(name=\"Headquarters\", fields=[\n",
    "        SearchableField(name=\"StreetAddress\", type=SearchFieldDataType.String),\n",
    "        SearchableField(name=\"City\", type=SearchFieldDataType.String, facetable=True, filterable=True, sortable=True),\n",
    "        SearchableField(name=\"StateProvince\", type=SearchFieldDataType.String, facetable=True, filterable=True, sortable=True),\n",
    "        SearchableField(name=\"PostalCode\", type=SearchFieldDataType.String, facetable=True, filterable=True, sortable=True),\n",
    "        SearchableField(name=\"Country\", type=SearchFieldDataType.String, facetable=True, filterable=True, sortable=True),\n",
    "    ])\n",
    "]\n",
    "\n",
    "\n",
    "scoring_profiles = []\n",
    "suggester = [{'name': 'sg', 'source_fields': ['Tags', 'Headquarters/City', 'Headquarters/Country']}]\n",
    "\n",
    "# Create the search index=\n",
    "index = SearchIndex(name=index_name, fields=fields, suggesters=suggester, scoring_profiles=scoring_profiles)\n",
    "result = index_client.create_or_update_index(index)\n",
    "print(f' {result.name} created')"
   ]
  },
  {
   "attachments": {},
   "cell_type": "markdown",
   "metadata": {},
   "source": [
    "## Create a documents payload"
   ]
  },
  {
   "cell_type": "code",
   "execution_count": null,
   "metadata": {},
   "outputs": [],
   "source": [
    "# Create a documents payload\n",
    "documents =[\n",
    "    {\n",
    "        \"@search.action\": \"upload\",\n",
    "        \"CompanyId\": \"1\",\n",
    "        \"\": \"Contoso Technologies Inc.\",\n",
    "        \"StockTicker\": \"CTSO\",\n",
    "        \"Description\": \"Contoso Technologies is a leading provider of cloud-based solutions, specializing in AI and data analytics for enterprises worldwide.\",\n",
    "        \"Description_fr\": \"Contoso Technologies est un fournisseur leader de solutions cloud, spécialisé dans l'IA et l'analyse de données pour les entreprises du monde entier.\",\n",
    "        \"Industry\": \"Technology\",\n",
    "        \"Tags\": [\"cloud\", \"AI\", \"analytics\", \"enterprise\"],\n",
    "        \"PubliclyTraded\": True,\n",
    "        \"FoundedDate\": \"2001-05-15T00:00:00Z\",\n",
    "        \"MarketCap\": 125.7,\n",
    "        \"Headquarters\": {\n",
    "            \"StreetAddress\": \"123 Innovation Way\",\n",
    "            \"City\": \"Redmond\",\n",
    "            \"StateProvince\": \"WA\",\n",
    "            \"PostalCode\": \"98052\",\n",
    "            \"Country\": \"USA\"\n",
    "        }\n",
    "    },\n",
    "    {\n",
    "        \"@search.action\": \"upload\",\n",
    "        \"CompanyId\": \"2\",\n",
    "        \"\": \"Northwind Foods Corp.\",\n",
    "        \"StockTicker\": \"NWF\",\n",
    "        \"Description\": \"Northwind Foods is a global leader in food processing and distribution, offering a wide range of organic and conventional products.\",\n",
    "        \"Description_fr\": \"Northwind Foods est un leader mondial dans la transformation et la distribution alimentaire, offrant une large gamme de produits biologiques et conventionnels.\",\n",
    "        \"Industry\": \"Food & Beverage\",\n",
    "        \"Tags\": [\"organic\", \"distribution\", \"processing\", \"retail\"],\n",
    "        \"PubliclyTraded\": True,\n",
    "        \"FoundedDate\": \"1985-03-10T00:00:00Z\",\n",
    "        \"MarketCap\": 18.2,\n",
    "        \"Headquarters\": {\n",
    "            \"StreetAddress\": \"456 Market St\",\n",
    "            \"City\": \"Chicago\",\n",
    "            \"StateProvince\": \"IL\",\n",
    "            \"PostalCode\": \"60606\",\n",
    "            \"Country\": \"USA\"\n",
    "        }\n",
    "    },\n",
    "    {\n",
    "        \"@search.action\": \"upload\",\n",
    "        \"CompanyId\": \"3\",\n",
    "        \"\": \"Fabrikam Financial Group\",\n",
    "        \"StockTicker\": \"FBKM\",\n",
    "        \"Description\": \"Fabrikam Financial Group provides innovative banking and investment solutions for individuals and businesses.\",\n",
    "        \"Description_fr\": \"Fabrikam Financial Group propose des solutions bancaires et d'investissement innovantes pour les particuliers et les entreprises.\",\n",
    "        \"Industry\": \"Finance\",\n",
    "        \"Tags\": [\"banking\", \"investment\", \"loans\", \"wealth management\"],\n",
    "        \"PubliclyTraded\": True,\n",
    "        \"FoundedDate\": \"1992-07-01T00:00:00Z\",\n",
    "        \"MarketCap\": 54.3,\n",
    "        \"Headquarters\": {\n",
    "            \"StreetAddress\": \"789 Wall St\",\n",
    "            \"City\": \"New York\",\n",
    "            \"StateProvince\": \"NY\",\n",
    "            \"PostalCode\": \"10005\",\n",
    "            \"Country\": \"USA\"\n",
    "        }\n",
    "    },\n",
    "    {\n",
    "        \"@search.action\": \"upload\",\n",
    "        \"CompanyId\": \"4\",\n",
    "        \"\": \"AdventureWorks Manufacturing\",\n",
    "        \"StockTicker\": \"AWMF\",\n",
    "        \"Description\": \"AdventureWorks specializes in the design and production of high-quality outdoor equipment and sporting goods.\",\n",
    "        \"Description_fr\": \"AdventureWorks est spécialisé dans la conception et la production d'équipements de plein air et d'articles de sport de haute qualité.\",\n",
    "        \"Industry\": \"Manufacturing\",\n",
    "        \"Tags\": [\"outdoor\", \"equipment\", \"sports\", \"design\"],\n",
    "        \"PubliclyTraded\": False,\n",
    "        \"FoundedDate\": \"2005-09-15T00:00:00Z\",\n",
    "        \"MarketCap\": 3.9,\n",
    "        \"Headquarters\": {\n",
    "            \"StreetAddress\": \"321 Industrial Blvd\",\n",
    "            \"City\": \"Denver\",\n",
    "            \"StateProvince\": \"CO\",\n",
    "            \"PostalCode\": \"80216\",\n",
    "            \"Country\": \"USA\"\n",
    "        }\n",
    "    },\n",
    "    {\n",
    "        \"@search.action\": \"upload\",\n",
    "        \"CompanyId\": \"5\",\n",
    "        \"\": \"Woodgrove Healthcare\",\n",
    "        \"StockTicker\": \"WDGV\",\n",
    "        \"Description\": \"Woodgrove Healthcare operates a network of hospitals and clinics, delivering patient-centered care and advanced medical services.\",\n",
    "        \"Description_fr\": \"Woodgrove Healthcare exploite un réseau d'hôpitaux et de cliniques, offrant des soins centrés sur le patient et des services médicaux avancés.\",\n",
    "        \"Industry\": \"Healthcare\",\n",
    "        \"Tags\": [\"hospital\", \"clinic\", \"patient care\", \"medical\"],\n",
    "        \"PubliclyTraded\": False,\n",
    "        \"FoundedDate\": \"2010-01-20T00:00:00Z\",\n",
    "        \"MarketCap\": 7.5,\n",
    "        \"Headquarters\": {\n",
    "            \"StreetAddress\": \"654 Wellness Ave\",\n",
    "            \"City\": \"Houston\",\n",
    "            \"StateProvince\": \"TX\",\n",
    "            \"PostalCode\": \"77030\",\n",
    "            \"Country\": \"USA\"\n",
    "        }\n",
    "    },\n",
    "    {\n",
    "        \"@search.action\": \"upload\",\n",
    "        \"CompanyId\": \"6\",\n",
    "        \"\": \"Litware Energy Solutions\",\n",
    "        \"StockTicker\": \"LTWR\",\n",
    "        \"Description\": \"Litware Energy Solutions develops and manages renewable energy projects, focusing on solar and wind power generation.\",\n",
    "        \"Description_fr\": \"Litware Energy Solutions développe et gère des projets d'énergie renouvelable, axés sur la production d'énergie solaire et éolienne.\",\n",
    "        \"Industry\": \"Energy\",\n",
    "        \"Tags\": [\"renewable\", \"solar\", \"wind\", \"sustainability\"],\n",
    "        \"PubliclyTraded\": True,\n",
    "        \"FoundedDate\": \"2012-11-30T00:00:00Z\",\n",
    "        \"MarketCap\": 22.8,\n",
    "        \"Headquarters\": {\n",
    "            \"StreetAddress\": \"987 Greenway Dr\",\n",
    "            \"City\": \"San Diego\",\n",
    "            \"StateProvince\": \"CA\",\n",
    "            \"PostalCode\": \"92121\",\n",
    "            \"Country\": \"USA\"\n",
    "        }\n",
    "    }\n",
    "]"
   ]
  },
  {
   "cell_type": "markdown",
   "metadata": {},
   "source": [
    "## Upload documents"
   ]
  },
  {
   "cell_type": "code",
   "execution_count": 8,
   "metadata": {},
   "outputs": [
    {
     "name": "stdout",
     "output_type": "stream",
     "text": [
      "Upload of new document succeeded: True\n"
     ]
    }
   ],
   "source": [
    "search_client = SearchClient(endpoint=search_endpoint,\n",
    "                      index_name=index_name,\n",
    "                      credential=credential)\n",
    "try:\n",
    "    result = search_client.upload_documents(documents=documents)\n",
    "    print(\"Upload of new document succeeded: {}\".format(result[0].succeeded))\n",
    "except Exception as ex:\n",
    "    print (ex.message)\n",
    "\n",
    "    index_client = SearchIndexClient(\n",
    "    endpoint=search_endpoint, credential=credential)"
   ]
  },
  {
   "attachments": {},
   "cell_type": "markdown",
   "metadata": {},
   "source": [
    "## Run your first query"
   ]
  },
  {
   "cell_type": "code",
   "execution_count": 9,
   "metadata": {},
   "outputs": [
    {
     "name": "stdout",
     "output_type": "stream",
     "text": [
      "Total Documents Matching Query: 6\n",
      "1.0\n",
      "Fabrikam Financial Group\n",
      "Description: Fabrikam Financial Group provides innovative banking and investment solutions for individuals and businesses.\n",
      "1.0\n",
      "Northwind Foods Corp.\n",
      "Description: Northwind Foods is a global leader in food processing and distribution, offering a wide range of organic and conventional products.\n",
      "1.0\n",
      "AdventureWorks Manufacturing\n",
      "Description: AdventureWorks specializes in the design and production of high-quality outdoor equipment and sporting goods.\n",
      "1.0\n",
      "Woodgrove Healthcare\n",
      "Description: Woodgrove Healthcare operates a network of hospitals and clinics, delivering patient-centered care and advanced medical services.\n",
      "1.0\n",
      "Litware Energy Solutions\n",
      "Description: Litware Energy Solutions develops and manages renewable energy projects, focusing on solar and wind power generation.\n",
      "1.0\n",
      "Contoso Technologies Inc.\n",
      "Description: Contoso Technologies is a leading provider of cloud-based solutions, specializing in AI and data analytics for enterprises worldwide.\n"
     ]
    }
   ],
   "source": [
    "# Run an empty query (returns selected fields, all documents)\n",
    "results =  search_client.search(query_type='simple',\n",
    "    search_text=\"*\" ,\n",
    "    select='CompanyName,Description',\n",
    "    include_total_count=True)\n",
    "\n",
    "print ('Total Documents Matching Query:', results.get_count())\n",
    "for result in results:\n",
    "    print(result[\"@search.score\"])\n",
    "    print(result[\"CompanyName\"])\n",
    "    print(f\"Description: {result['Description']}\")\n"
   ]
  },
  {
   "attachments": {},
   "cell_type": "markdown",
   "metadata": {},
   "source": [
    "## Run a term query"
   ]
  },
  {
   "cell_type": "code",
   "execution_count": 12,
   "metadata": {},
   "outputs": [
    {
     "name": "stdout",
     "output_type": "stream",
     "text": [
      "Total Documents Matching Query: 1\n",
      "0.2876821\n",
      "Fabrikam Financial Group\n",
      "Description: Fabrikam Financial Group provides innovative banking and investment solutions for individuals and businesses.\n"
     ]
    }
   ],
   "source": [
    "# Run a term query\n",
    "results =  search_client.search(query_type='simple',\n",
    "    search_text=\"finance\" ,\n",
    "    select='CompanyName,Description,Tags',\n",
    "    include_total_count=True)\n",
    "\n",
    "print ('Total Documents Matching Query:', results.get_count())\n",
    "for result in results:\n",
    "    print(result[\"@search.score\"])\n",
    "    print(result[\"CompanyName\"])\n",
    "    print(f\"Description: {result['Description']}\")"
   ]
  },
  {
   "attachments": {},
   "cell_type": "markdown",
   "metadata": {},
   "source": [
    "## Add a filter"
   ]
  },
  {
   "cell_type": "code",
   "execution_count": 32,
   "metadata": {},
   "outputs": [
    {
     "name": "stdout",
     "output_type": "stream",
     "text": [
      "1: Contoso Technologies Inc. - 125.7 MarketCap\n",
      "3: Fabrikam Financial Group - 54.3 MarketCap\n",
      "6: Litware Energy Solutions - 22.8 MarketCap\n",
      "2: Northwind Foods Corp. - 18.2 MarketCap\n"
     ]
    }
   ],
   "source": [
    "# Add a filter\n",
    "results = search_client.search(\n",
    "    search_text=\"*\", \n",
    "    select='CompanyId,CompanyName,MarketCap', \n",
    "    filter='MarketCap gt 10', \n",
    "    order_by='MarketCap desc')\n",
    "\n",
    "for result in results:\n",
    "    print(\"{}: {} - {} MarketCap\".format(result[\"CompanyId\"], result[\"CompanyName\"], result[\"MarketCap\"]))"
   ]
  },
  {
   "attachments": {},
   "cell_type": "markdown",
   "metadata": {},
   "source": [
    "## Scope a query to specific searchable fields"
   ]
  },
  {
   "cell_type": "code",
   "execution_count": 33,
   "metadata": {},
   "outputs": [
    {
     "name": "stdout",
     "output_type": "stream",
     "text": [
      "1: Contoso Technologies Inc.\n"
     ]
    }
   ],
   "source": [
    "results = search_client.search(\n",
    "    search_text=\"Contoso\", \n",
    "    search_fields=['CompanyName'], \n",
    "    select='CompanyId,CompanyName')\n",
    "\n",
    "for result in results:\n",
    "    print(\"{}: {}\".format(result[\"CompanyId\"], result[\"CompanyName\"]))"
   ]
  },
  {
   "attachments": {},
   "cell_type": "markdown",
   "metadata": {},
   "source": [
    "## Return facets"
   ]
  },
  {
   "cell_type": "code",
   "execution_count": 34,
   "metadata": {},
   "outputs": [
    {
     "name": "stdout",
     "output_type": "stream",
     "text": [
      "    {'value': 'Energy', 'count': 1}\n",
      "    {'value': 'Finance', 'count': 1}\n",
      "    {'value': 'Food & Beverage', 'count': 1}\n",
      "    {'value': 'Healthcare', 'count': 1}\n",
      "    {'value': 'Manufacturing', 'count': 1}\n",
      "    {'value': 'Technology', 'count': 1}\n"
     ]
    }
   ],
   "source": [
    "# Return facets\n",
    "results = search_client.search(search_text=\"*\", facets=[\"Industry\"])\n",
    "\n",
    "facets = results.get_facets()\n",
    "\n",
    "for facet in facets[\"Industry\"]:\n",
    "    print(\"    {}\".format(facet))"
   ]
  },
  {
   "attachments": {},
   "cell_type": "markdown",
   "metadata": {},
   "source": [
    "## Look up a document "
   ]
  },
  {
   "cell_type": "code",
   "execution_count": 35,
   "metadata": {},
   "outputs": [
    {
     "name": "stdout",
     "output_type": "stream",
     "text": [
      "Name: Fabrikam Financial Group\n",
      "MarketCap: 54.3\n",
      "Industry: Finance\n"
     ]
    }
   ],
   "source": [
    "# Look up a specific document by ID\n",
    "result = search_client.get_document(key=\"3\")\n",
    "\n",
    "print(\"Name: {}\".format(result[\"CompanyName\"]))\n",
    "print(\"MarketCap: {}\".format(result[\"MarketCap\"]))\n",
    "print(\"Industry: {}\".format(result[\"Industry\"]))"
   ]
  },
  {
   "attachments": {},
   "cell_type": "markdown",
   "metadata": {},
   "source": [
    "## Autocomplete a query"
   ]
  },
  {
   "cell_type": "code",
   "execution_count": 37,
   "metadata": {},
   "outputs": [
    {
     "name": "stdout",
     "output_type": "stream",
     "text": [
      "Autocomplete for: cl\n",
      "clinic\n",
      "cloud\n"
     ]
    }
   ],
   "source": [
    "# Autocomplete a query\n",
    "search_suggestion = 'cl'\n",
    "results = search_client.autocomplete(\n",
    "    search_text=search_suggestion, \n",
    "    suggester_name=\"sg\",\n",
    "    mode='twoTerms')\n",
    "\n",
    "print(\"Autocomplete for:\", search_suggestion)\n",
    "for result in results:\n",
    "    print (result['text'])"
   ]
  },
  {
   "attachments": {},
   "cell_type": "markdown",
   "metadata": {},
   "source": [
    "## Clean up\n",
    "\n",
    "If you are finished with this index, you can delete it by running the following lines. Deleting unnecessary indexes frees up space for stepping through more quickstarts and tutorials."
   ]
  },
  {
   "cell_type": "code",
   "execution_count": null,
   "metadata": {},
   "outputs": [],
   "source": [
    "try:\n",
    "    result = index_client.delete_index(index_name)\n",
    "    print ('Index', index_name, 'Deleted')\n",
    "except Exception as ex:\n",
    "    print (ex)"
   ]
  },
  {
   "attachments": {},
   "cell_type": "markdown",
   "metadata": {},
   "source": [
    "Confirm the index deletion by running the following script that lists all of the indexes on your search service. If hotels-quickstart is not listed, you've successfully deleted the index and have completed this quickstart."
   ]
  },
  {
   "cell_type": "code",
   "execution_count": null,
   "metadata": {},
   "outputs": [],
   "source": [
    "try:\n",
    "    result = index_client.get_index(index_name)\n",
    "    print (result)\n",
    "except Exception as ex:\n",
    "    print (ex)\n"
   ]
  }
 ],
 "metadata": {
  "kernelspec": {
   "display_name": "oai",
   "language": "python",
   "name": "python3"
  },
  "language_info": {
   "codemirror_mode": {
    "name": "ipython",
    "version": 3
   },
   "file_extension": ".py",
   "mimetype": "text/x-python",
   "name": "python",
   "nbconvert_exporter": "python",
   "pygments_lexer": "ipython3",
   "version": "3.12.9"
  }
 },
 "nbformat": 4,
 "nbformat_minor": 2
}
